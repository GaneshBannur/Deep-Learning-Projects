{
  "nbformat": 4,
  "nbformat_minor": 0,
  "metadata": {
    "colab": {
      "name": "LeNet.ipynb",
      "provenance": [],
      "collapsed_sections": []
    },
    "kernelspec": {
      "name": "python3",
      "display_name": "Python 3"
    }
  },
  "cells": [
    {
      "cell_type": "code",
      "metadata": {
        "id": "Uzf1eZOQ20YF"
      },
      "source": [
        "import torch\r\n",
        "from torchvision.datasets import MNIST\r\n",
        "from torchvision.transforms import ToTensor\r\n",
        "from torch.nn import CrossEntropyLoss\r\n",
        "from torch.optim import Adam\r\n",
        "from torch.utils.data import random_split\r\n",
        "from torch.utils.tensorboard import SummaryWriter\r\n",
        "from pathlib import Path\r\n",
        "from time import time\r\n",
        "from train_and_test_classification import seed_all, train_test_classifier\r\n",
        "from models.LeNet import LeNet"
      ],
      "execution_count": null,
      "outputs": []
    },
    {
      "cell_type": "code",
      "metadata": {
        "id": "2ebbvaBLG8b3"
      },
      "source": [
        "seed_all()"
      ],
      "execution_count": null,
      "outputs": []
    },
    {
      "cell_type": "code",
      "metadata": {
        "id": "vaeyeX7Ddsrr"
      },
      "source": [
        "project_root = Path(\"/project_root\")\r\n",
        "run_folder = project_root/\"runs\"/\"lenet_mnist\"\r\n",
        "run_folder.mkdir(exist_ok=True, parents=True)\r\n",
        "current_run_folder = run_folder/f\"{int(time())}\"\r\n",
        "current_run_folder.mkdir(exist_ok=False)"
      ],
      "execution_count": null,
      "outputs": []
    },
    {
      "cell_type": "code",
      "metadata": {
        "id": "nX5fplzocFJI"
      },
      "source": [
        "# testing with random input\r\n",
        "test_network = LeNet()\r\n",
        "print(test_network)\r\n",
        "\r\n",
        "with torch.no_grad():\r\n",
        "  X = torch.ones((1, 1, 28, 28))\r\n",
        "  y = test_network(X)\r\n",
        "  assert y.shape == (1, 10)\r\n",
        "  print(y)"
      ],
      "execution_count": null,
      "outputs": []
    },
    {
      "cell_type": "code",
      "metadata": {
        "id": "HnZOYZnUJMbU"
      },
      "source": [
        "train_data = MNIST(root = \".\", train = True, download = True, transform=ToTensor())\r\n",
        "train_data, val_data = random_split(train_data, (int(0.8*len(train_data)), int(0.2*len(train_data))))\r\n",
        "test_data = MNIST(root = \".\", train = False, download = True, transform=ToTensor())"
      ],
      "execution_count": null,
      "outputs": []
    },
    {
      "cell_type": "code",
      "metadata": {
        "id": "xINBh84zWFvW"
      },
      "source": [
        "logger = SummaryWriter(current_run_folder/\"logs\")\r\n",
        "model = LeNet()\r\n",
        "device = \"cuda\" if torch.cuda.device_count() > 0 else \"cpu\"\r\n",
        "model = model.to(device)\r\n",
        "logger.add_graph(model, torch.ones(1, 1, 28, 28).to(device))\r\n",
        "checkpoint_folder = current_run_folder/\"checkpoints\"\r\n",
        "checkpoint_folder.mkdir(exist_ok=False)\r\n",
        "train_test_classifier(model=model,\r\n",
        "                      train_data=train_data,\r\n",
        "                      val_data=val_data,\r\n",
        "                      test_data=test_data,\r\n",
        "                      batch_size=16,\r\n",
        "                      num_epochs=5,\r\n",
        "                      loss_function=CrossEntropyLoss(),\r\n",
        "                      optimizer=Adam(model.parameters(), lr = 0.001),\r\n",
        "                      logger=logger,\r\n",
        "                      device=device, \r\n",
        "                      checkpoint_folder=checkpoint_folder,\r\n",
        "                      early_stopping_epochs=None)"
      ],
      "execution_count": null,
      "outputs": []
    }
  ]
}